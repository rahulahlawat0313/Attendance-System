{
 "cells": [
  {
   "cell_type": "code",
   "execution_count": 4,
   "metadata": {},
   "outputs": [
    {
     "ename": "ModuleNotFoundError",
     "evalue": "No module named 'cv2'",
     "output_type": "error",
     "traceback": [
      "\u001b[0;31m---------------------------------------------------------------------------\u001b[0m",
      "\u001b[0;31mModuleNotFoundError\u001b[0m                       Traceback (most recent call last)",
      "\u001b[1;32m/Users/kartikeyachhikara/Desktop/Rahul/attendance_computer_vision.ipynb Cell 1\u001b[0m line \u001b[0;36m1\n\u001b[0;32m----> <a href='vscode-notebook-cell:/Users/kartikeyachhikara/Desktop/Rahul/attendance_computer_vision.ipynb#W0sZmlsZQ%3D%3D?line=0'>1</a>\u001b[0m \u001b[39mimport\u001b[39;00m \u001b[39mcv2\u001b[39;00m\n\u001b[1;32m      <a href='vscode-notebook-cell:/Users/kartikeyachhikara/Desktop/Rahul/attendance_computer_vision.ipynb#W0sZmlsZQ%3D%3D?line=1'>2</a>\u001b[0m \u001b[39mimport\u001b[39;00m \u001b[39mglob\u001b[39;00m\n",
      "\u001b[0;31mModuleNotFoundError\u001b[0m: No module named 'cv2'"
     ]
    }
   ],
   "source": [
    "import cv2\n",
    "import glob\n"
   ]
  },
  {
   "cell_type": "code",
   "execution_count": null,
   "metadata": {},
   "outputs": [],
   "source": [
    "from sklearn.ensemble import AdaBoostClassifier\n",
    "from sklearn.decomposition import PCA\n",
    "from sklearn.preprocessing import MinMaxScaler"
   ]
  },
  {
   "cell_type": "code",
   "execution_count": null,
   "metadata": {},
   "outputs": [],
   "source": [
    "img_vid=cv2.VideoCapture(0)\n",
    "Model_face=cv2.CascadeClassifier(\"trained model\\haarcascade_frontalface_alt_tree.xml\")\n",
    "i=1\n",
    "while True:\n",
    "    flag,img=img_vid.read()\n",
    "    if flag==False:\n",
    "        break\n",
    "    img2=cv2.cvtColor(img,cv2.COLOR_BGR2GRAY)\n",
    "    face=Model_face.detectMultiScale(img2,minNeighbors=1)\n",
    "    for x,y,w,h in face:\n",
    "        cv2.rectangle(img,(x,y,w,h),(0,0,255),2)\n",
    "        img3=img2[y:y+h,x:x+w]\n",
    "        img4=cv2.resize(img3,(100,100))\n",
    "        cv2.imwrite(f\"subject/{i}.jpg\",img4)\n",
    "        i+=1\n",
    "    cv2.imshow(\"window\",img)\n",
    "    key=cv2.waitKey(50)\n",
    "    if key==ord(\"c\"):\n",
    "        break\n",
    "    if i==500:\n",
    "        break\n",
    "cv2.destroyAllWindows()\n",
    "img_vid.release()"
   ]
  },
  {
   "cell_type": "code",
   "execution_count": null,
   "metadata": {},
   "outputs": [],
   "source": [
    "x=[]\n",
    "y=[]"
   ]
  },
  {
   "cell_type": "code",
   "execution_count": null,
   "metadata": {},
   "outputs": [],
   "source": [
    "address=glob.glob(r\"C:\\Users\\rachi\\Desktop\\py\\Machine\\Computer vision\\attendance_system\\subject\\*.*\")"
   ]
  },
  {
   "cell_type": "code",
   "execution_count": null,
   "metadata": {},
   "outputs": [],
   "source": [
    "for i in address:\n",
    "    img=cv2.imread(i,0)\n",
    "    flat_image=img.flatten()\n",
    "    x.append(flat_image)\n",
    "    y.append(\"Subject\")\n",
    "\n"
   ]
  },
  {
   "cell_type": "code",
   "execution_count": null,
   "metadata": {},
   "outputs": [
    {
     "name": "stdout",
     "output_type": "stream",
     "text": [
      "[array([ 66,  62,  60, ..., 117, 121, 121], dtype=uint8), array([ 85,  80,  78, ..., 117, 118, 119], dtype=uint8), array([ 75,  73,  74, ..., 164, 163, 164], dtype=uint8), array([ 84,  80,  79, ..., 158, 159, 161], dtype=uint8), array([ 77,  77,  78, ..., 124, 140, 153], dtype=uint8), array([ 74,  74,  75, ..., 162, 164, 165], dtype=uint8), array([ 77,  76,  75, ..., 163, 164, 165], dtype=uint8), array([ 78,  75,  76, ..., 161, 161, 161], dtype=uint8), array([ 71,  73,  74, ..., 162, 163, 163], dtype=uint8), array([ 77,  75,  74, ..., 160, 161, 162], dtype=uint8), array([ 73,  74,  74, ..., 162, 163, 164], dtype=uint8), array([ 75,  74,  75, ..., 164, 164, 164], dtype=uint8), array([193, 189, 190, ..., 118, 119, 122], dtype=uint8), array([ 78,  77,  76, ..., 160, 161, 159], dtype=uint8), array([ 75,  74,  75, ..., 161, 162, 162], dtype=uint8), array([ 77,  75,  73, ..., 160, 160, 161], dtype=uint8), array([ 81,  80,  78, ..., 162, 162, 163], dtype=uint8), array([ 84,  81,  77, ..., 160, 160, 160], dtype=uint8), array([ 79,  77,  76, ..., 160, 160, 160], dtype=uint8), array([ 79,  79,  77, ..., 160, 161, 161], dtype=uint8), array([ 83,  79,  76, ..., 162, 163, 162], dtype=uint8), array([ 74,  76,  77, ..., 162, 163, 162], dtype=uint8), array([ 78,  77,  75, ..., 164, 164, 163], dtype=uint8), array([189, 179, 134, ..., 114, 117, 119], dtype=uint8), array([ 75,  74,  74, ..., 160, 160, 161], dtype=uint8), array([ 87,  82,  79, ..., 160, 160, 160], dtype=uint8), array([ 78,  77,  75, ..., 164, 164, 163], dtype=uint8), array([ 77,  76,  76, ..., 164, 164, 164], dtype=uint8), array([ 83,  80,  77, ..., 160, 160, 160], dtype=uint8), array([ 78,  77,  75, ..., 161, 161, 161], dtype=uint8), array([ 79,  78,  76, ..., 162, 162, 162], dtype=uint8), array([ 77,  75,  74, ..., 161, 161, 161], dtype=uint8), array([ 75,  76,  77, ..., 163, 164, 164], dtype=uint8), array([ 74,  76,  75, ..., 163, 163, 162], dtype=uint8), array([170, 127, 101, ..., 106, 108, 111], dtype=uint8), array([ 76,  74,  74, ..., 162, 163, 162], dtype=uint8), array([ 75,  74,  74, ..., 161, 163, 164], dtype=uint8), array([ 77,  76,  75, ..., 159, 160, 161], dtype=uint8), array([ 72,  73,  74, ..., 162, 163, 164], dtype=uint8), array([ 77,  74,  74, ..., 161, 163, 164], dtype=uint8), array([ 74,  74,  76, ..., 161, 162, 163], dtype=uint8), array([ 73,  74,  74, ..., 163, 164, 164], dtype=uint8), array([ 77,  78,  78, ..., 160, 161, 161], dtype=uint8), array([ 78,  77,  75, ..., 163, 163, 162], dtype=uint8), array([ 74,  74,  76, ..., 161, 162, 163], dtype=uint8), array([198, 196, 193, ..., 115, 117, 118], dtype=uint8), array([ 74,  75,  73, ..., 163, 164, 164], dtype=uint8), array([ 75,  76,  77, ..., 165, 165, 164], dtype=uint8), array([ 78,  76,  77, ..., 162, 163, 164], dtype=uint8), array([ 77,  76,  74, ..., 162, 162, 161], dtype=uint8), array([ 76,  75,  76, ..., 162, 162, 162], dtype=uint8), array([ 75,  75,  75, ..., 159, 160, 160], dtype=uint8), array([ 74,  74,  74, ..., 161, 162, 162], dtype=uint8), array([ 76,  75,  74, ..., 164, 164, 164], dtype=uint8), array([ 79,  78,  77, ..., 161, 162, 162], dtype=uint8), array([ 75,  76,  77, ..., 162, 163, 162], dtype=uint8), array([198, 196, 193, ..., 115, 117, 118], dtype=uint8), array([ 77,  75,  76, ..., 163, 163, 163], dtype=uint8), array([ 78,  76,  73, ..., 161, 162, 162], dtype=uint8), array([ 75,  74,  73, ..., 163, 163, 163], dtype=uint8), array([ 78,  77,  76, ..., 160, 161, 161], dtype=uint8), array([ 75,  74,  76, ..., 162, 163, 163], dtype=uint8), array([ 79,  75,  72, ..., 161, 161, 161], dtype=uint8), array([ 73,  76,  78, ..., 160, 161, 161], dtype=uint8), array([ 76,  73,  72, ..., 163, 164, 165], dtype=uint8), array([ 82,  78,  75, ..., 163, 163, 163], dtype=uint8), array([ 75,  73,  72, ..., 163, 164, 165], dtype=uint8), array([101,  93,  87, ..., 162, 163, 163], dtype=uint8), array([ 81,  78,  76, ..., 158, 159, 159], dtype=uint8), array([ 74,  74,  74, ..., 160, 160, 161], dtype=uint8), array([197, 157, 102, ...,  86,  87,  86], dtype=uint8), array([202, 197, 181, ...,  89,  90,  90], dtype=uint8), array([201, 197, 173, ...,  86,  87,  87], dtype=uint8), array([204, 201, 185, ...,  87,  88,  89], dtype=uint8), array([201, 197, 137, ...,  87,  87,  87], dtype=uint8), array([205, 203, 201, ...,  88,  88,  88], dtype=uint8), array([202, 201, 194, ...,  91,  91,  91], dtype=uint8), array([202, 201, 194, ...,  91,  91,  91], dtype=uint8), array([115, 107, 101, ..., 161, 161, 161], dtype=uint8), array([204, 201, 201, ...,  91,  91,  90], dtype=uint8), array([208, 203, 205, ...,  91,  92,  91], dtype=uint8), array([201, 202, 203, ...,  90,  90,  91], dtype=uint8), array([205, 200, 203, ...,  89,  89,  90], dtype=uint8), array([207, 202, 205, ...,  91,  93,  92], dtype=uint8), array([203, 206, 202, ...,  90,  90,  90], dtype=uint8), array([207, 209, 205, ...,  87,  89,  90], dtype=uint8), array([200, 203, 200, ...,  91,  92,  91], dtype=uint8), array([200, 203, 200, ...,  91,  92,  91], dtype=uint8), array([201, 200, 196, ...,  91,  92,  92], dtype=uint8), array([ 98,  91,  84, ..., 163, 164, 165], dtype=uint8), array([208, 207, 205, ...,  88,  89,  89], dtype=uint8), array([203, 206, 201, ...,  90,  90,  91], dtype=uint8), array([208, 205, 204, ...,  91,  91,  92], dtype=uint8), array([203, 201, 203, ...,  90,  92,  93], dtype=uint8), array([205, 203, 204, ...,  88,  89,  90], dtype=uint8), array([207, 207, 208, ...,  88,  89,  90], dtype=uint8), array([207, 207, 208, ...,  88,  89,  90], dtype=uint8), array([207, 205, 207, ...,  92,  93,  93], dtype=uint8), array([205, 208, 209, ...,  90,  91,  91], dtype=uint8), array([207, 204, 207, ...,  92,  92,  92], dtype=uint8), array([100,  94,  89, ..., 161, 162, 163], dtype=uint8), array([203, 204, 202, ...,  93,  94,  94], dtype=uint8), array([205, 203, 203, ...,  91,  91,  91], dtype=uint8), array([196, 165, 109, ...,  91,  90,  89], dtype=uint8), array([200, 201, 143, ...,  86,  86,  86], dtype=uint8), array([200, 201, 143, ...,  86,  86,  86], dtype=uint8), array([90, 80, 76, ..., 87, 85, 87], dtype=uint8), array([83, 84, 82, ..., 83, 83, 84], dtype=uint8), array([79, 78, 78, ..., 85, 85, 85], dtype=uint8), array([84, 84, 83, ..., 84, 84, 85], dtype=uint8), array([86, 86, 83, ..., 85, 86, 86], dtype=uint8), array([59, 58, 56, ..., 39, 52, 53], dtype=uint8), array([ 93,  92,  83, ..., 168, 168, 168], dtype=uint8), array([128,  85,  88, ...,  85,  85,  85], dtype=uint8), array([128,  85,  88, ...,  85,  85,  85], dtype=uint8), array([177,  95,  90, ...,  86,  85,  86], dtype=uint8), array([183, 107,  85, ...,  85,  86,  87], dtype=uint8), array([187, 152,  94, ...,  87,  87,  88], dtype=uint8), array([129,  97,  85, ...,  85,  86,  86], dtype=uint8), array([197, 160, 103, ...,  87,  88,  87], dtype=uint8), array([194, 183,  88, ...,  88,  88,  88], dtype=uint8), array([202, 185, 110, ...,  85,  84,  85], dtype=uint8), array([202, 185, 110, ...,  85,  84,  85], dtype=uint8), array([138, 105,  89, ..., 164, 163, 163], dtype=uint8), array([190, 140,  93, ...,  87,  87,  88], dtype=uint8), array([190, 145,  96, ...,  90,  90,  89], dtype=uint8), array([200, 194, 146, ...,  85,  85,  85], dtype=uint8), array([200, 194, 146, ...,  85,  85,  85], dtype=uint8), array([202, 198, 170, ...,  88,  88,  88], dtype=uint8), array([93, 88, 84, ..., 88, 88, 89], dtype=uint8), array([202, 201, 198, ...,  86,  86,  87], dtype=uint8), array([92, 87, 81, ..., 88, 88, 88], dtype=uint8), array([200, 188,  95, ...,  86,  86,  86], dtype=uint8), array([201, 180, 106, ...,  90,  89,  87], dtype=uint8), array([192, 149, 105, ..., 163, 163, 163], dtype=uint8), array([89, 89, 86, ..., 86, 88, 88], dtype=uint8), array([201, 201, 177, ...,  86,  86,  86], dtype=uint8), array([91, 86, 81, ..., 88, 89, 89], dtype=uint8), array([194, 125,  92, ...,  87,  88,  89], dtype=uint8), array([197, 129,  98, ...,  85,  86,  87], dtype=uint8), array([124, 100,  87, ...,  90,  89,  88], dtype=uint8), array([199, 189, 125, ...,  86,  87,  88], dtype=uint8), array([111,  96,  85, ...,  89,  89,  90], dtype=uint8), array([200, 198, 174, ...,  88,  88,  88], dtype=uint8), array([201, 197, 195, ...,  90,  91,  91], dtype=uint8), array([112,  96,  83, ..., 160, 160, 160], dtype=uint8), array([198, 197, 152, ...,  89,  90,  91], dtype=uint8), array([198, 194, 146, ...,  87,  86,  86], dtype=uint8), array([199, 198, 183, ...,  82,  83,  85], dtype=uint8), array([200, 197, 141, ...,  84,  84,  86], dtype=uint8), array([203, 204, 199, ...,  85,  86,  86], dtype=uint8), array([200, 202, 193, ...,  87,  88,  87], dtype=uint8), array([203, 198, 199, ...,  90,  91,  90], dtype=uint8), array([199, 202, 192, ...,  87,  87,  87], dtype=uint8), array([204, 198, 200, ...,  85,  85,  85], dtype=uint8), array([199, 203, 196, ...,  84,  84,  84], dtype=uint8), array([ 90,  82,  79, ..., 164, 163, 163], dtype=uint8), array([174, 112,  95, ...,  84,  84,  83], dtype=uint8), array([201, 195, 157, ...,  84,  85,  86], dtype=uint8), array([89, 88, 85, ..., 88, 88, 88], dtype=uint8), array([200, 192, 132, ...,  87,  87,  86], dtype=uint8), array([197, 160,  92, ...,  86,  87,  87], dtype=uint8), array([197, 160,  92, ...,  86,  87,  87], dtype=uint8), array([202, 205, 203, ...,  85,  85,  85], dtype=uint8), array([199, 201, 177, ...,  87,  88,  89], dtype=uint8), array([203, 200, 202, ...,  88,  89,  89], dtype=uint8), array([202, 199, 200, ...,  86,  86,  87], dtype=uint8), array([ 85,  81,  77, ..., 165, 166, 166], dtype=uint8), array([200, 200, 196, ...,  87,  88,  88], dtype=uint8), array([200, 200, 196, ...,  87,  88,  88], dtype=uint8), array([204, 201, 200, ...,  87,  88,  88], dtype=uint8), array([202, 199, 200, ...,  87,  88,  88], dtype=uint8), array([204, 203, 200, ...,  88,  88,  89], dtype=uint8), array([204, 202, 198, ...,  85,  85,  85], dtype=uint8), array([192, 132,  93, ...,  86,  87,  87], dtype=uint8), array([201, 189, 173, ...,  87,  88,  89], dtype=uint8), array([201, 202, 198, ...,  89,  89,  89], dtype=uint8), array([202, 200, 190, ...,  89,  90,  91], dtype=uint8), array([ 89,  84,  78, ..., 165, 165, 165], dtype=uint8), array([207, 204, 204, ...,  88,  88,  87], dtype=uint8), array([207, 204, 204, ...,  88,  88,  87], dtype=uint8), array([203, 200, 199, ...,  90,  90,  90], dtype=uint8), array([204, 204, 201, ...,  88,  89,  90], dtype=uint8), array([202, 203, 196, ...,  86,  87,  88], dtype=uint8), array([205, 199, 194, ...,  89,  90,  90], dtype=uint8), array([203, 197, 166, ...,  87,  89,  90], dtype=uint8), array([179, 119,  91, ...,  89,  90,  90], dtype=uint8), array([166, 110,  90, ...,  90,  91,  91], dtype=uint8), array([200, 185, 146, ...,  86,  86,  86], dtype=uint8), array([ 86,  83,  79, ..., 164, 163, 163], dtype=uint8), array([200, 185, 146, ...,  86,  86,  86], dtype=uint8), array([188, 164,  92, ...,  89,  90,  91], dtype=uint8), array([187, 146, 102, ...,  87,  87,  87], dtype=uint8), array([193, 159,  91, ...,  87,  87,  88], dtype=uint8), array([154,  86,  86, ...,  90,  91,  90], dtype=uint8), array([199, 201, 177, ...,  86,  87,  87], dtype=uint8), array([201, 153, 100, ...,  89,  90,  90], dtype=uint8), array([201, 202, 172, ...,  86,  88,  89], dtype=uint8), array([201, 202, 172, ...,  86,  88,  89], dtype=uint8), array([204, 203, 201, ...,  88,  87,  87], dtype=uint8), array([ 92,  89,  83, ..., 164, 166, 164], dtype=uint8), array([205, 204, 201, ...,  91,  91,  90], dtype=uint8), array([205, 201, 202, ...,  88,  88,  88], dtype=uint8), array([203, 189, 139, ...,  87,  87,  87], dtype=uint8), array([203, 199, 185, ...,  84,  85,  86], dtype=uint8), array([201, 185, 130, ...,  86,  87,  88], dtype=uint8), array([101,  89,  85, ...,  84,  87,  87], dtype=uint8), array([101,  89,  85, ...,  84,  87,  87], dtype=uint8), array([98, 87, 82, ..., 83, 84, 84], dtype=uint8), array([92, 86, 81, ..., 85, 87, 87], dtype=uint8), array([199, 199, 172, ...,  87,  87,  88], dtype=uint8), array([ 85,  79,  74, ..., 161, 161, 162], dtype=uint8), array([123, 103,  85, ...,  89,  89,  89], dtype=uint8), array([74, 73, 72, ..., 89, 90, 90], dtype=uint8), array([77, 75, 72, ..., 87, 87, 87], dtype=uint8), array([93, 85, 80, ..., 90, 89, 89], dtype=uint8), array([73, 72, 70, ..., 91, 91, 91], dtype=uint8), array([74, 73, 72, ..., 87, 87, 87], dtype=uint8), array([85, 82, 79, ..., 88, 88, 88], dtype=uint8), array([85, 82, 79, ..., 88, 88, 88], dtype=uint8), array([201, 201, 105, ...,  87,  87,  87], dtype=uint8), array([197, 185, 136, ...,  85,  86,  86], dtype=uint8), array([ 76,  67,  62, ..., 129, 130, 130], dtype=uint8), array([ 87,  83,  79, ..., 163, 162, 161], dtype=uint8), array([133,  99,  92, ...,  83,  85,  85], dtype=uint8), array([197, 172, 102, ...,  70,  72,  79], dtype=uint8), array([201, 195, 185, ...,  80,  84,  84], dtype=uint8), array([201, 195, 185, ...,  80,  84,  84], dtype=uint8), array([203, 198, 188, ...,  84,  85,  85], dtype=uint8), array([197, 195, 187, ...,  80,  84,  85], dtype=uint8), array([198, 180, 115, ...,  86,  87,  87], dtype=uint8), array([186, 166,  98, ...,  85,  86,  86], dtype=uint8), array([196, 169, 107, ...,  88,  88,  88], dtype=uint8), array([202, 169, 104, ...,  87,  87,  87], dtype=uint8), array([ 80,  78,  75, ..., 167, 167, 166], dtype=uint8), array([195, 191, 166, ...,  87,  88,  88], dtype=uint8), array([175, 104,  92, ...,  87,  88,  89], dtype=uint8), array([175, 104,  92, ...,  87,  88,  89], dtype=uint8), array([200, 197, 169, ...,  84,  85,  85], dtype=uint8), array([172, 112,  92, ...,  86,  87,  87], dtype=uint8), array([207, 204, 207, ...,  87,  89,  90], dtype=uint8), array([206, 202, 201, ...,  85,  87,  86], dtype=uint8), array([205, 203, 201, ...,  90,  91,  91], dtype=uint8), array([208, 206, 205, ...,  89,  90,  91], dtype=uint8), array([203, 204, 201, ...,  85,  85,  86], dtype=uint8), array([ 90,  85,  80, ..., 162, 162, 162], dtype=uint8), array([203, 204, 201, ...,  85,  85,  86], dtype=uint8), array([202, 202, 198, ...,  88,  89,  90], dtype=uint8), array([202, 198, 201, ...,  87,  89,  90], dtype=uint8), array([201, 202, 199, ...,  87,  89,  89], dtype=uint8), array([202, 204, 180, ...,  86,  87,  88], dtype=uint8), array([202, 201, 198, ...,  88,  89,  88], dtype=uint8), array([202, 201, 198, ...,  88,  89,  88], dtype=uint8), array([202, 203, 202, ...,  88,  87,  88], dtype=uint8), array([199, 205, 194, ...,  87,  87,  88], dtype=uint8), array([201, 196, 192, ...,  88,  89,  89], dtype=uint8), array([ 88,  83,  78, ..., 166, 166, 166], dtype=uint8), array([202, 199, 195, ...,  86,  88,  90], dtype=uint8), array([199, 198, 191, ...,  89,  90,  90], dtype=uint8), array([200, 196, 137, ...,  86,  87,  87], dtype=uint8), array([200, 196, 137, ...,  86,  87,  87], dtype=uint8), array([203, 197, 193, ...,  87,  89,  90], dtype=uint8), array([201, 195, 196, ...,  90,  91,  92], dtype=uint8), array([202, 202, 201, ...,  86,  87,  87], dtype=uint8), array([201, 201, 185, ...,  86,  86,  86], dtype=uint8), array([201, 201, 185, ...,  86,  86,  86], dtype=uint8), array([204, 202, 201, ...,  89,  90,  90], dtype=uint8), array([ 79,  74,  77, ..., 163, 163, 164], dtype=uint8), array([203, 204, 201, ...,  90,  89,  89], dtype=uint8), array([201, 202, 200, ...,  89,  89,  90], dtype=uint8), array([205, 203, 207, ...,  88,  90,  90], dtype=uint8), array([201, 200, 194, ...,  87,  88,  89], dtype=uint8), array([204, 203, 201, ...,  89,  90,  88], dtype=uint8), array([204, 203, 201, ...,  89,  90,  88], dtype=uint8), array([197, 193, 135, ...,  90,  90,  90], dtype=uint8), array([128,  92,  85, ...,  86,  88,  89], dtype=uint8), array([205, 201, 200, ...,  86,  87,  88], dtype=uint8), array([200, 193, 152, ...,  87,  88,  89], dtype=uint8), array([ 79,  78,  76, ..., 163, 163, 163], dtype=uint8), array([201, 189, 138, ...,  86,  87,  88], dtype=uint8), array([203, 197, 170, ...,  85,  86,  87], dtype=uint8), array([197, 195, 127, ...,  89,  89,  89], dtype=uint8), array([204, 198, 199, ...,  88,  88,  87], dtype=uint8), array([204, 198, 199, ...,  88,  88,  87], dtype=uint8), array([199, 201, 196, ...,  87,  88,  89], dtype=uint8), array([200, 182, 127, ...,  85,  86,  88], dtype=uint8), array([198, 182, 116, ...,  84,  85,  85], dtype=uint8), array([199, 187, 131, ...,  86,  88,  88], dtype=uint8), array([203, 203, 201, ...,  87,  88,  89], dtype=uint8), array([ 93,  90,  86, ..., 163, 164, 164], dtype=uint8), array([196, 193, 134, ...,  88,  88,  88], dtype=uint8), array([196, 193, 134, ...,  88,  88,  88], dtype=uint8), array([204, 200, 198, ...,  88,  88,  88], dtype=uint8), array([202, 199, 199, ...,  86,  87,  88], dtype=uint8), array([197, 194, 149, ...,  89,  89,  90], dtype=uint8), array([203, 197, 144, ...,  90,  90,  89], dtype=uint8), array([202, 197, 195, ...,  90,  89,  90], dtype=uint8), array([203, 202, 203, ...,  88,  89,  89], dtype=uint8), array([200, 196, 177, ...,  89,  90,  90], dtype=uint8), array([198, 185, 117, ...,  87,  87,  87], dtype=uint8), array([ 87,  83,  78, ..., 162, 163, 164], dtype=uint8), array([199, 197, 172, ...,  90,  91,  91], dtype=uint8), array([204, 205, 198, ...,  87,  88,  88], dtype=uint8), array([202, 201, 196, ...,  90,  87,  87], dtype=uint8), array([199, 192, 136, ...,  89,  90,  91], dtype=uint8), array([199, 193, 160, ...,  87,  88,  88], dtype=uint8), array([202, 203, 202, ...,  87,  87,  86], dtype=uint8), array([203, 201, 203, ...,  88,  89,  89], dtype=uint8), array([197, 197, 149, ...,  89,  88,  88], dtype=uint8), array([199, 198, 147, ...,  86,  87,  87], dtype=uint8), array([205, 203, 200, ...,  90,  90,  91], dtype=uint8), array([ 87,  83,  78, ..., 162, 163, 164], dtype=uint8), array([198, 165, 102, ...,  85,  86,  86], dtype=uint8), array([197, 198, 122, ...,  86,  87,  89], dtype=uint8), array([200, 201, 200, ...,  90,  90,  89], dtype=uint8), array([200, 201, 200, ...,  90,  90,  89], dtype=uint8), array([202, 197, 197, ...,  89,  90,  91], dtype=uint8), array([204, 204, 201, ...,  87,  87,  87], dtype=uint8), array([202, 201, 196, ...,  88,  88,  89], dtype=uint8), array([201, 196, 185, ...,  90,  90,  90], dtype=uint8), array([199, 196, 149, ...,  91,  90,  89], dtype=uint8), array([203, 200, 182, ...,  90,  90,  91], dtype=uint8), array([ 88,  84,  80, ..., 163, 163, 162], dtype=uint8), array([202, 197, 186, ...,  89,  90,  90], dtype=uint8), array([201, 196, 151, ...,  88,  89,  89], dtype=uint8), array([198, 196, 171, ...,  88,  89,  90], dtype=uint8), array([199, 201, 165, ...,  88,  88,  88], dtype=uint8), array([201, 202, 185, ...,  89,  89,  89], dtype=uint8), array([201, 201, 199, ...,  87,  88,  88], dtype=uint8), array([202, 197, 177, ...,  88,  89,  89], dtype=uint8), array([201, 203, 196, ...,  89,  89,  89], dtype=uint8), array([201, 200, 195, ...,  89,  88,  88], dtype=uint8), array([204, 198, 198, ...,  88,  88,  88], dtype=uint8), array([133,  85,  72, ..., 123, 124, 126], dtype=uint8), array([ 81,  78,  75, ..., 163, 163, 164], dtype=uint8), array([198, 190, 147, ...,  90,  91,  91], dtype=uint8), array([202, 197, 176, ...,  89,  89,  89], dtype=uint8), array([197, 182, 114, ...,  89,  90,  91], dtype=uint8), array([201, 198, 159, ...,  89,  90,  92], dtype=uint8), array([198, 194, 154, ...,  89,  90,  90], dtype=uint8), array([198, 198, 117, ...,  90,  90,  92], dtype=uint8), array([201, 196, 172, ...,  89,  89,  90], dtype=uint8), array([203, 195, 161, ...,  88,  89,  89], dtype=uint8), array([199, 196, 157, ...,  88,  89,  89], dtype=uint8), array([200, 200, 198, ...,  86,  86,  86], dtype=uint8), array([ 86,  83,  79, ..., 161, 161, 162], dtype=uint8), array([202, 199, 177, ...,  86,  86,  87], dtype=uint8), array([198, 199, 156, ...,  87,  87,  87], dtype=uint8), array([198, 187, 113, ...,  87,  88,  90], dtype=uint8), array([200, 197, 194, ...,  87,  89,  90], dtype=uint8), array([163, 106,  91, ...,  89,  90,  90], dtype=uint8), array([163, 106,  91, ...,  89,  90,  90], dtype=uint8), array([198, 199, 191, ...,  89,  90,  90], dtype=uint8), array([198, 174, 120, ...,  89,  90,  90], dtype=uint8), array([189, 143,  92, ...,  87,  88,  89], dtype=uint8), array([200, 198, 169, ...,  87,  88,  90], dtype=uint8), array([ 94,  89,  83, ..., 162, 163, 164], dtype=uint8), array([200, 200, 187, ...,  86,  86,  88], dtype=uint8), array([203, 200, 200, ...,  88,  89,  89], dtype=uint8), array([197, 153,  97, ...,  90,  89,  87], dtype=uint8), array([197, 153,  97, ...,  90,  89,  87], dtype=uint8), array([200, 186, 159, ...,  89,  89,  89], dtype=uint8), array([200, 197, 173, ...,  87,  87,  89], dtype=uint8), array([181, 108,  89, ...,  90,  90,  90], dtype=uint8), array([185, 135,  89, ...,  88,  89,  89], dtype=uint8), array([185, 115,  87, ...,  87,  88,  88], dtype=uint8), array([201, 194, 143, ...,  86,  88,  89], dtype=uint8), array([ 76,  76,  77, ..., 163, 162, 162], dtype=uint8), array([91, 87, 87, ..., 88, 89, 90], dtype=uint8), array([91, 87, 87, ..., 88, 89, 90], dtype=uint8), array([96, 86, 85, ..., 89, 89, 90], dtype=uint8), array([188, 108,  92, ...,  86,  87,  88], dtype=uint8), array([200, 198, 192, ...,  87,  88,  89], dtype=uint8), array([198, 195, 139, ...,  86,  86,  86], dtype=uint8), array([196, 182, 119, ...,  87,  88,  90], dtype=uint8), array([196, 182, 119, ...,  87,  88,  90], dtype=uint8), array([89, 87, 84, ..., 88, 89, 90], dtype=uint8), array([201, 200, 169, ...,  88,  89,  89], dtype=uint8), array([ 74,  75,  76, ..., 160, 160, 160], dtype=uint8), array([199, 198, 169, ...,  86,  88,  89], dtype=uint8), array([200, 197, 189, ...,  87,  88,  88], dtype=uint8), array([187, 133,  92, ...,  87,  88,  88], dtype=uint8), array([187, 133,  92, ...,  87,  88,  88], dtype=uint8), array([89, 87, 85, ..., 87, 87, 88], dtype=uint8), array([203, 194, 161, ...,  85,  86,  86], dtype=uint8), array([119,  95,  85, ...,  86,  86,  88], dtype=uint8), array([105,  89,  85, ...,  88,  87,  87], dtype=uint8), array([196, 185, 137, ...,  85,  86,  86], dtype=uint8), array([197, 196, 166, ...,  86,  87,  89], dtype=uint8), array([ 72,  72,  73, ..., 161, 162, 162], dtype=uint8), array([202, 199, 195, ...,  85,  85,  85], dtype=uint8), array([202, 195, 171, ...,  88,  89,  89], dtype=uint8), array([202, 195, 171, ...,  88,  89,  89], dtype=uint8), array([189, 137,  89, ...,  91,  91,  91], dtype=uint8), array([111,  94,  83, ...,  85,  85,  86], dtype=uint8), array([194, 159,  94, ...,  86,  85,  85], dtype=uint8), array([99, 91, 85, ..., 86, 87, 87], dtype=uint8), array([103,  91,  84, ...,  86,  86,  86], dtype=uint8), array([85, 86, 85, ..., 84, 84, 84], dtype=uint8), array([88, 86, 81, ..., 85, 84, 84], dtype=uint8), array([ 73,  73,  75, ..., 159, 160, 160], dtype=uint8), array([182, 105,  88, ...,  86,  87,  87], dtype=uint8), array([168, 100,  84, ...,  86,  86,  88], dtype=uint8), array([196, 184, 105, ...,  89,  90,  91], dtype=uint8), array([200, 167, 101, ...,  87,  87,  87], dtype=uint8), array([200, 167, 101, ...,  87,  87,  87], dtype=uint8), array([206, 203, 201, ...,  86,  86,  86], dtype=uint8), array([193, 140,  93, ...,  87,  89,  89], dtype=uint8), array([113,  92,  83, ...,  85,  85,  86], dtype=uint8), array([93, 89, 86, ..., 84, 85, 84], dtype=uint8), array([86, 82, 78, ..., 85, 84, 84], dtype=uint8), array([ 73,  73,  75, ..., 159, 160, 160], dtype=uint8), array([85, 84, 82, ..., 85, 85, 86], dtype=uint8), array([86, 84, 81, ..., 86, 87, 87], dtype=uint8), array([87, 84, 79, ..., 85, 86, 86], dtype=uint8), array([82, 81, 80, ..., 86, 86, 86], dtype=uint8), array([86, 86, 86, ..., 85, 85, 85], dtype=uint8), array([85, 86, 86, ..., 86, 87, 88], dtype=uint8), array([85, 85, 84, ..., 85, 85, 85], dtype=uint8), array([84, 84, 82, ..., 85, 85, 86], dtype=uint8), array([80, 78, 77, ..., 89, 90, 90], dtype=uint8), array([81, 79, 77, ..., 86, 86, 87], dtype=uint8), array([ 74,  73,  73, ..., 159, 160, 162], dtype=uint8), array([78, 76, 74, ..., 84, 85, 85], dtype=uint8), array([80, 79, 78, ..., 85, 85, 84], dtype=uint8), array([80, 79, 78, ..., 85, 85, 84], dtype=uint8), array([74, 71, 72, ..., 88, 88, 89], dtype=uint8), array([86, 84, 79, ..., 89, 88, 87], dtype=uint8), array([162,  91,  92, ...,  86,  86,  86], dtype=uint8), array([84, 83, 81, ..., 86, 87, 86], dtype=uint8), array([131, 102,  85, ...,  88,  89,  89], dtype=uint8), array([98, 88, 80, ..., 86, 86, 85], dtype=uint8), array([88, 81, 80, ..., 86, 87, 87], dtype=uint8), array([ 73,  73,  73, ..., 159, 162, 163], dtype=uint8), array([85, 83, 80, ..., 86, 88, 89], dtype=uint8), array([79, 78, 77, ..., 86, 86, 85], dtype=uint8), array([86, 84, 81, ..., 83, 84, 83], dtype=uint8), array([86, 84, 81, ..., 82, 84, 85], dtype=uint8), array([84, 81, 79, ..., 85, 85, 85], dtype=uint8), array([91, 88, 83, ..., 85, 85, 85], dtype=uint8), array([86, 83, 80, ..., 84, 85, 86], dtype=uint8), array([87, 86, 85, ..., 81, 82, 83], dtype=uint8), array([87, 86, 85, ..., 81, 82, 83], dtype=uint8), array([192, 155, 108, ...,  68,  72,  76], dtype=uint8), array([ 92,  89,  84, ..., 164, 163, 163], dtype=uint8), array([ 82,  79,  76, ..., 160, 160, 160], dtype=uint8), array([ 77,  75,  75, ..., 161, 161, 161], dtype=uint8), array([ 73,  74,  75, ..., 151, 159, 161], dtype=uint8), array([ 76,  76,  75, ..., 159, 159, 159], dtype=uint8), array([ 73,  74,  74, ..., 162, 161, 162], dtype=uint8), array([ 77,  76,  75, ..., 161, 161, 161], dtype=uint8), array([ 76,  74,  72, ..., 160, 161, 161], dtype=uint8), array([ 82,  80,  78, ..., 160, 160, 160], dtype=uint8), array([ 77,  77,  78, ..., 159, 160, 160], dtype=uint8), array([ 75,  73,  72, ..., 160, 162, 162], dtype=uint8), array([196, 193, 180, ..., 159, 159, 159], dtype=uint8), array([ 78,  77,  76, ..., 160, 160, 159], dtype=uint8), array([ 77,  75,  75, ..., 159, 160, 161], dtype=uint8), array([ 77,  75,  75, ..., 151, 158, 161], dtype=uint8), array([ 79,  78,  77, ..., 148, 154, 158], dtype=uint8), array([ 83,  80,  76, ..., 160, 161, 161], dtype=uint8), array([ 81,  77,  75, ..., 160, 160, 160], dtype=uint8), array([ 81,  77,  75, ..., 160, 160, 160], dtype=uint8), array([ 72,  72,  72, ..., 124, 137, 148], dtype=uint8), array([ 77,  75,  76, ..., 122, 149, 156], dtype=uint8), array([ 76,  75,  77, ..., 160, 163, 165], dtype=uint8), array([162, 122,  96, ..., 161, 162, 162], dtype=uint8), array([ 76,  76,  77, ..., 159, 160, 160], dtype=uint8), array([ 71,  74,  77, ..., 158, 160, 161], dtype=uint8), array([ 73,  75,  75, ..., 160, 163, 162], dtype=uint8), array([ 75,  76,  76, ..., 161, 161, 161], dtype=uint8), array([ 76,  75,  75, ..., 162, 163, 163], dtype=uint8), array([ 76,  77,  76, ..., 160, 160, 161], dtype=uint8), array([ 78,  73,  72, ..., 160, 162, 163], dtype=uint8), array([ 78,  73,  72, ..., 160, 162, 163], dtype=uint8), array([ 76,  73,  73, ..., 161, 161, 162], dtype=uint8), array([ 77,  74,  75, ..., 160, 161, 161], dtype=uint8), array([ 82,  77,  71, ..., 128, 126, 123], dtype=uint8), array([ 74,  74,  75, ..., 162, 163, 163], dtype=uint8), array([ 88,  83,  78, ..., 161, 162, 161], dtype=uint8), array([ 78,  77,  76, ..., 160, 161, 161], dtype=uint8), array([ 77,  76,  73, ..., 164, 165, 166], dtype=uint8), array([ 78,  78,  78, ..., 161, 162, 163], dtype=uint8), array([ 78,  77,  75, ..., 161, 162, 161], dtype=uint8), array([ 75,  74,  74, ..., 160, 162, 164], dtype=uint8), array([ 77,  76,  77, ..., 161, 161, 161], dtype=uint8), array([ 78,  77,  76, ..., 162, 162, 163], dtype=uint8), array([ 79,  78,  76, ..., 161, 161, 161], dtype=uint8), array([ 73,  71,  69, ..., 126, 127, 128], dtype=uint8), array([ 78,  78,  74, ..., 163, 162, 160], dtype=uint8), array([ 75,  71,  71, ..., 163, 164, 163], dtype=uint8), array([ 76,  74,  74, ..., 160, 160, 160], dtype=uint8), array([ 76,  74,  74, ..., 160, 160, 160], dtype=uint8), array([ 81,  77,  76, ..., 162, 162, 162], dtype=uint8), array([ 80,  77,  76, ..., 160, 160, 162], dtype=uint8), array([ 76,  75,  73, ..., 162, 162, 161], dtype=uint8), array([ 74,  75,  75, ..., 163, 164, 165], dtype=uint8), array([ 81,  78,  75, ..., 160, 160, 160], dtype=uint8), array([ 75,  74,  74, ..., 163, 163, 163], dtype=uint8)] ['Subject', 'Subject', 'Subject', 'Subject', 'Subject', 'Subject', 'Subject', 'Subject', 'Subject', 'Subject', 'Subject', 'Subject', 'Subject', 'Subject', 'Subject', 'Subject', 'Subject', 'Subject', 'Subject', 'Subject', 'Subject', 'Subject', 'Subject', 'Subject', 'Subject', 'Subject', 'Subject', 'Subject', 'Subject', 'Subject', 'Subject', 'Subject', 'Subject', 'Subject', 'Subject', 'Subject', 'Subject', 'Subject', 'Subject', 'Subject', 'Subject', 'Subject', 'Subject', 'Subject', 'Subject', 'Subject', 'Subject', 'Subject', 'Subject', 'Subject', 'Subject', 'Subject', 'Subject', 'Subject', 'Subject', 'Subject', 'Subject', 'Subject', 'Subject', 'Subject', 'Subject', 'Subject', 'Subject', 'Subject', 'Subject', 'Subject', 'Subject', 'Subject', 'Subject', 'Subject', 'Subject', 'Subject', 'Subject', 'Subject', 'Subject', 'Subject', 'Subject', 'Subject', 'Subject', 'Subject', 'Subject', 'Subject', 'Subject', 'Subject', 'Subject', 'Subject', 'Subject', 'Subject', 'Subject', 'Subject', 'Subject', 'Subject', 'Subject', 'Subject', 'Subject', 'Subject', 'Subject', 'Subject', 'Subject', 'Subject', 'Subject', 'Subject', 'Subject', 'Subject', 'Subject', 'Subject', 'Subject', 'Subject', 'Subject', 'Subject', 'Subject', 'Subject', 'Subject', 'Subject', 'Subject', 'Subject', 'Subject', 'Subject', 'Subject', 'Subject', 'Subject', 'Subject', 'Subject', 'Subject', 'Subject', 'Subject', 'Subject', 'Subject', 'Subject', 'Subject', 'Subject', 'Subject', 'Subject', 'Subject', 'Subject', 'Subject', 'Subject', 'Subject', 'Subject', 'Subject', 'Subject', 'Subject', 'Subject', 'Subject', 'Subject', 'Subject', 'Subject', 'Subject', 'Subject', 'Subject', 'Subject', 'Subject', 'Subject', 'Subject', 'Subject', 'Subject', 'Subject', 'Subject', 'Subject', 'Subject', 'Subject', 'Subject', 'Subject', 'Subject', 'Subject', 'Subject', 'Subject', 'Subject', 'Subject', 'Subject', 'Subject', 'Subject', 'Subject', 'Subject', 'Subject', 'Subject', 'Subject', 'Subject', 'Subject', 'Subject', 'Subject', 'Subject', 'Subject', 'Subject', 'Subject', 'Subject', 'Subject', 'Subject', 'Subject', 'Subject', 'Subject', 'Subject', 'Subject', 'Subject', 'Subject', 'Subject', 'Subject', 'Subject', 'Subject', 'Subject', 'Subject', 'Subject', 'Subject', 'Subject', 'Subject', 'Subject', 'Subject', 'Subject', 'Subject', 'Subject', 'Subject', 'Subject', 'Subject', 'Subject', 'Subject', 'Subject', 'Subject', 'Subject', 'Subject', 'Subject', 'Subject', 'Subject', 'Subject', 'Subject', 'Subject', 'Subject', 'Subject', 'Subject', 'Subject', 'Subject', 'Subject', 'Subject', 'Subject', 'Subject', 'Subject', 'Subject', 'Subject', 'Subject', 'Subject', 'Subject', 'Subject', 'Subject', 'Subject', 'Subject', 'Subject', 'Subject', 'Subject', 'Subject', 'Subject', 'Subject', 'Subject', 'Subject', 'Subject', 'Subject', 'Subject', 'Subject', 'Subject', 'Subject', 'Subject', 'Subject', 'Subject', 'Subject', 'Subject', 'Subject', 'Subject', 'Subject', 'Subject', 'Subject', 'Subject', 'Subject', 'Subject', 'Subject', 'Subject', 'Subject', 'Subject', 'Subject', 'Subject', 'Subject', 'Subject', 'Subject', 'Subject', 'Subject', 'Subject', 'Subject', 'Subject', 'Subject', 'Subject', 'Subject', 'Subject', 'Subject', 'Subject', 'Subject', 'Subject', 'Subject', 'Subject', 'Subject', 'Subject', 'Subject', 'Subject', 'Subject', 'Subject', 'Subject', 'Subject', 'Subject', 'Subject', 'Subject', 'Subject', 'Subject', 'Subject', 'Subject', 'Subject', 'Subject', 'Subject', 'Subject', 'Subject', 'Subject', 'Subject', 'Subject', 'Subject', 'Subject', 'Subject', 'Subject', 'Subject', 'Subject', 'Subject', 'Subject', 'Subject', 'Subject', 'Subject', 'Subject', 'Subject', 'Subject', 'Subject', 'Subject', 'Subject', 'Subject', 'Subject', 'Subject', 'Subject', 'Subject', 'Subject', 'Subject', 'Subject', 'Subject', 'Subject', 'Subject', 'Subject', 'Subject', 'Subject', 'Subject', 'Subject', 'Subject', 'Subject', 'Subject', 'Subject', 'Subject', 'Subject', 'Subject', 'Subject', 'Subject', 'Subject', 'Subject', 'Subject', 'Subject', 'Subject', 'Subject', 'Subject', 'Subject', 'Subject', 'Subject', 'Subject', 'Subject', 'Subject', 'Subject', 'Subject', 'Subject', 'Subject', 'Subject', 'Subject', 'Subject', 'Subject', 'Subject', 'Subject', 'Subject', 'Subject', 'Subject', 'Subject', 'Subject', 'Subject', 'Subject', 'Subject', 'Subject', 'Subject', 'Subject', 'Subject', 'Subject', 'Subject', 'Subject', 'Subject', 'Subject', 'Subject', 'Subject', 'Subject', 'Subject', 'Subject', 'Subject', 'Subject', 'Subject', 'Subject', 'Subject', 'Subject', 'Subject', 'Subject', 'Subject', 'Subject', 'Subject', 'Subject', 'Subject', 'Subject', 'Subject', 'Subject', 'Subject', 'Subject', 'Subject', 'Subject', 'Subject', 'Subject', 'Subject', 'Subject', 'Subject', 'Subject', 'Subject', 'Subject', 'Subject', 'Subject', 'Subject', 'Subject', 'Subject', 'Subject', 'Subject', 'Subject', 'Subject', 'Subject', 'Subject', 'Subject', 'Subject', 'Subject', 'Subject', 'Subject', 'Subject', 'Subject', 'Subject', 'Subject', 'Subject', 'Subject', 'Subject', 'Subject', 'Subject', 'Subject', 'Subject', 'Subject', 'Subject', 'Subject', 'Subject', 'Subject', 'Subject', 'Subject', 'Subject', 'Subject', 'Subject', 'Subject', 'Subject', 'Subject', 'Subject', 'Subject', 'Subject', 'Subject', 'Subject', 'Subject', 'Subject', 'Subject', 'Subject', 'Subject', 'Subject', 'Subject', 'Subject', 'Subject', 'Subject', 'Subject', 'Subject', 'Subject', 'Subject', 'Subject', 'Subject', 'Subject', 'Subject', 'Subject', 'Subject', 'Subject']\n"
     ]
    }
   ],
   "source": [
    "print(x,y)"
   ]
  },
  {
   "cell_type": "code",
   "execution_count": null,
   "metadata": {},
   "outputs": [],
   "source": [
    "sc=MinMaxScaler()\n",
    "x_sc=sc.fit_transform(x)\n",
    "pca=PCA(0.99)\n",
    "x_pca=pca.fit_transform(x_sc)\n"
   ]
  },
  {
   "cell_type": "code",
   "execution_count": null,
   "metadata": {},
   "outputs": [
    {
     "data": {
      "text/plain": [
       "1.0"
      ]
     },
     "execution_count": 13,
     "metadata": {},
     "output_type": "execute_result"
    }
   ],
   "source": [
    "Model=AdaBoostClassifier()\n",
    "Model.fit(x_pca,y)\n",
    "Model.score(x_pca,y)"
   ]
  },
  {
   "cell_type": "code",
   "execution_count": null,
   "metadata": {},
   "outputs": [
    {
     "name": "stdout",
     "output_type": "stream",
     "text": [
      "['Subject']\n",
      "['Subject']\n",
      "['Subject']\n",
      "['Subject']\n",
      "['Subject']\n",
      "['Subject']\n",
      "['Subject']\n",
      "['Subject']\n",
      "['Subject']\n",
      "['Subject']\n",
      "['Subject']\n",
      "['Subject']\n",
      "['Subject']\n",
      "['Subject']\n",
      "['Subject']\n",
      "['Subject']\n",
      "['Subject']\n",
      "['Subject']\n",
      "['Subject']\n",
      "['Subject']\n",
      "['Subject']\n",
      "['Subject']\n"
     ]
    }
   ],
   "source": [
    "img_vid=cv2.VideoCapture(0)\n",
    "Model_face=cv2.CascadeClassifier(\"trained model\\haarcascade_frontalface_alt_tree.xml\")\n",
    "ns=0\n",
    "while True:\n",
    "    flag,img=img_vid.read()\n",
    "    if flag==False:\n",
    "        break\n",
    "    img2=cv2.cvtColor(img,cv2.COLOR_BGR2GRAY)\n",
    "    face=Model_face.detectMultiScale(img2,minNeighbors=1)\n",
    "    for x,y,w,h in face:\n",
    "        cv2.rectangle(img,(x,y,w,h),(0,0,255),2)\n",
    "        img3=img2[y:y+h,x:x+w]\n",
    "        img4=cv2.resize(img3,(100,100))\n",
    "        img5=[img4.flatten()]\n",
    "        img6=sc.transform(img5)\n",
    "        img7=pca.transform(img6)\n",
    "        result=Model.predict(img7)\n",
    "        print(result)\n",
    "    cv2.putText(img,text=result[0],org=(x+10,y-10),fontFace=cv2.FONT_HERSHEY_COMPLEX,color=(0,0,255),thickness=2,fontScale=1)\n",
    "    result2=Model.predict_proba(img7)\n",
    "    cv2.imshow(\"window\",img)\n",
    "    key=cv2.waitKey(50)\n",
    "    if key==ord(\"c\"):\n",
    "        break\n",
    "cv2.destroyAllWindows()\n",
    "img_vid.release()\n"
   ]
  },
  {
   "cell_type": "code",
   "execution_count": null,
   "metadata": {},
   "outputs": [],
   "source": []
  }
 ],
 "metadata": {
  "kernelspec": {
   "display_name": "Python 3",
   "language": "python",
   "name": "python3"
  },
  "language_info": {
   "codemirror_mode": {
    "name": "ipython",
    "version": 3
   },
   "file_extension": ".py",
   "mimetype": "text/x-python",
   "name": "python",
   "nbconvert_exporter": "python",
   "pygments_lexer": "ipython3",
   "version": "3.9.6"
  },
  "orig_nbformat": 4,
  "vscode": {
   "interpreter": {
    "hash": "6d9302da00b5fbada392c9772ae45465171cf1e670fc250da450c1238d7ab19a"
   }
  }
 },
 "nbformat": 4,
 "nbformat_minor": 2
}
